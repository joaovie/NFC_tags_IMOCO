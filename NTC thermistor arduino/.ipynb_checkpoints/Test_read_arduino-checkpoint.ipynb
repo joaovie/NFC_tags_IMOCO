{
 "cells": [
  {
   "cell_type": "code",
   "execution_count": 1,
   "id": "68dbb4b4",
   "metadata": {},
   "outputs": [],
   "source": [
    "import time\n",
    "\n",
    "import numpy as np\n",
    "\n",
    "import serial\n",
    "import serial.tools.list_ports\n",
    "\n",
    "#import bokeh.plotting\n",
    "#import bokeh.io\n",
    "#bokeh.io.output_notebook()"
   ]
  },
  {
   "cell_type": "code",
   "execution_count": 2,
   "id": "2dc4ec93",
   "metadata": {},
   "outputs": [],
   "source": [
    "HANDSHAKE = 0\n",
    "TEMP_REQUEST = 1"
   ]
  },
  {
   "cell_type": "code",
   "execution_count": 3,
   "id": "c17d7d6e",
   "metadata": {},
   "outputs": [],
   "source": [
    "def find_arduino(port=None):\n",
    "    \"\"\"Get the name of the port that is connected to Arduino.\"\"\"\n",
    "    if port is None:\n",
    "        ports = serial.tools.list_ports.comports()\n",
    "        for p in ports:\n",
    "            if p.manufacturer is not None and \"Arduino\" in p.manufacturer:\n",
    "                port = p.device\n",
    "    return port\n",
    "\n",
    "\n",
    "def handshake_arduino(\n",
    "    arduino, sleep_time=1, print_handshake_message=False, handshake_code=0\n",
    "):\n",
    "    \"\"\"Make sure connection is established by sending\n",
    "    and receiving bytes.\"\"\"\n",
    "    # Close and reopen\n",
    "    arduino.close()\n",
    "    arduino.open()\n",
    "\n",
    "    # Chill out while everything gets set\n",
    "    time.sleep(sleep_time)\n",
    "\n",
    "    # Set a long timeout to complete handshake\n",
    "    timeout = arduino.timeout\n",
    "    arduino.timeout = 2\n",
    "\n",
    "    # Read and discard everything that may be in the input buffer\n",
    "    _ = arduino.read_all()\n",
    "\n",
    "    # Send request to Arduino\n",
    "    arduino.write(bytes([handshake_code]))\n",
    "\n",
    "    # Read in what Arduino sent\n",
    "    handshake_message = arduino.read_until()\n",
    "\n",
    "    # Send and receive request again\n",
    "    arduino.write(bytes([handshake_code]))\n",
    "    handshake_message = arduino.read_until()\n",
    "\n",
    "    # Print the handshake message, if desired\n",
    "    if print_handshake_message:\n",
    "        print(\"Handshake message: \" + handshake_message.decode())\n",
    "\n",
    "    # Reset the timeout\n",
    "    arduino.timeout = timeout"
   ]
  },
  {
   "cell_type": "code",
   "execution_count": 7,
   "id": "39a7da2d",
   "metadata": {},
   "outputs": [
    {
     "name": "stdout",
     "output_type": "stream",
     "text": [
      "Handshake message: Message received.\r\n",
      "\n"
     ]
    }
   ],
   "source": [
    "port = find_arduino()\n",
    "arduino = serial.Serial(port, baudrate=115200)\n",
    "handshake_arduino(arduino, handshake_code=HANDSHAKE, print_handshake_message=True)"
   ]
  },
  {
   "cell_type": "code",
   "execution_count": 11,
   "id": "5f59a12d",
   "metadata": {},
   "outputs": [
    {
     "data": {
      "text/plain": [
       "'25.6699520000'"
      ]
     },
     "execution_count": 11,
     "metadata": {},
     "output_type": "execute_result"
    }
   ],
   "source": [
    "# Ask Arduino for data\n",
    "arduino.write(bytes([TEMP_REQUEST]))\n",
    "\n",
    "# Receive data\n",
    "raw = arduino.read_until()\n",
    "\n",
    "# Look at what we got\n",
    "raw\n",
    "\n",
    "raw_str = raw.decode()\n",
    "\n",
    "# Take a look\n",
    "raw_str\n",
    "\n",
    "raw_str.rstrip()"
   ]
  },
  {
   "cell_type": "code",
   "execution_count": 15,
   "id": "99166fab",
   "metadata": {},
   "outputs": [],
   "source": [
    "def getTEMP(arduino):\n",
    "    arduino.write(bytes([TEMP_REQUEST]))\n",
    "    raw = arduino.read_until()\n",
    "    raw_str = raw.decode()\n",
    "    return float(raw_str.rstrip())"
   ]
  },
  {
   "cell_type": "code",
   "execution_count": 16,
   "id": "32e41f1b",
   "metadata": {},
   "outputs": [
    {
     "data": {
      "text/plain": [
       "25.566681"
      ]
     },
     "execution_count": 16,
     "metadata": {},
     "output_type": "execute_result"
    }
   ],
   "source": [
    "getTEMP(arduino)"
   ]
  },
  {
   "cell_type": "code",
   "execution_count": 18,
   "id": "819e90db",
   "metadata": {},
   "outputs": [
    {
     "data": {
      "text/plain": [
       "28.490265"
      ]
     },
     "execution_count": 18,
     "metadata": {},
     "output_type": "execute_result"
    }
   ],
   "source": [
    "getTEMP(arduino)"
   ]
  },
  {
   "cell_type": "code",
   "execution_count": null,
   "id": "0c3d4491",
   "metadata": {},
   "outputs": [],
   "source": [
    "def parse_raw(raw):\n",
    "    \"\"\"Parse bytes output from Arduino.\"\"\"\n",
    "    raw = raw.decode()\n",
    "    if raw[-1] != \"\\n\":\n",
    "        raise ValueError(\n",
    "            \"Input must end with newline, otherwise message is incomplete.\"\n",
    "        )\n",
    "\n",
    "    t = raw.rstrip()\n",
    "    return float(t)"
   ]
  },
  {
   "cell_type": "code",
   "execution_count": null,
   "id": "881b9fc9",
   "metadata": {},
   "outputs": [],
   "source": [
    "def request_single_temp(arduino):\n",
    "    \"\"\"Ask Arduino for a single data point\"\"\"\n",
    "    # Ask Arduino for data\n",
    "    arduino.write(bytes([VOLTAGE_REQUEST]))\n",
    "\n",
    "    # Read in the data\n",
    "    raw = arduino.read_until()\n",
    "\n",
    "    # Parse and return\n",
    "    return parse_raw(raw)"
   ]
  }
 ],
 "metadata": {
  "kernelspec": {
   "display_name": "Python 3 (ipykernel)",
   "language": "python",
   "name": "python3"
  },
  "language_info": {
   "codemirror_mode": {
    "name": "ipython",
    "version": 3
   },
   "file_extension": ".py",
   "mimetype": "text/x-python",
   "name": "python",
   "nbconvert_exporter": "python",
   "pygments_lexer": "ipython3",
   "version": "3.10.11"
  }
 },
 "nbformat": 4,
 "nbformat_minor": 5
}
