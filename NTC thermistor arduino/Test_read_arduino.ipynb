{
 "cells": [
  {
   "cell_type": "code",
   "execution_count": 1,
   "id": "10f82acb",
   "metadata": {},
   "outputs": [],
   "source": [
    "import time\n",
    "\n",
    "import numpy as np\n",
    "\n",
    "import serial\n",
    "import serial.tools.list_ports\n",
    "\n",
    "#import bokeh.plotting\n",
    "#import bokeh.io\n",
    "#bokeh.io.output_notebook()"
   ]
  },
  {
   "cell_type": "code",
   "execution_count": 2,
   "id": "3746043e",
   "metadata": {},
   "outputs": [],
   "source": [
    "HANDSHAKE = 0\n",
    "TEMP_REQUEST = 1"
   ]
  },
  {
   "cell_type": "code",
   "execution_count": 3,
   "id": "b820900f",
   "metadata": {},
   "outputs": [],
   "source": [
    "def find_arduino(port=None):\n",
    "    \"\"\"Get the name of the port that is connected to Arduino.\"\"\"\n",
    "    if port is None:\n",
    "        ports = serial.tools.list_ports.comports()\n",
    "        for p in ports:\n",
    "            if p.manufacturer is not None and \"Arduino\" in p.manufacturer:\n",
    "                port = p.device\n",
    "    return port\n",
    "\n",
    "\n",
    "def handshake_arduino(\n",
    "    arduino, sleep_time=1, print_handshake_message=False, handshake_code=0\n",
    "):\n",
    "    \"\"\"Make sure connection is established by sending\n",
    "    and receiving bytes.\"\"\"\n",
    "    # Close and reopen\n",
    "    arduino.close()\n",
    "    arduino.open()\n",
    "\n",
    "    # Chill out while everything gets set\n",
    "    time.sleep(sleep_time)\n",
    "\n",
    "    # Set a long timeout to complete handshake\n",
    "    timeout = arduino.timeout\n",
    "    arduino.timeout = 2\n",
    "\n",
    "    # Read and discard everything that may be in the input buffer\n",
    "    _ = arduino.read_all()\n",
    "\n",
    "    # Send request to Arduino\n",
    "    arduino.write(bytes([handshake_code]))\n",
    "\n",
    "    # Read in what Arduino sent\n",
    "    handshake_message = arduino.read_until()\n",
    "\n",
    "    # Send and receive request again\n",
    "    arduino.write(bytes([handshake_code]))\n",
    "    handshake_message = arduino.read_until()\n",
    "\n",
    "    # Print the handshake message, if desired\n",
    "    if print_handshake_message:\n",
    "        print(\"Handshake message: \" + handshake_message.decode())\n",
    "\n",
    "    # Reset the timeout\n",
    "    arduino.timeout = timeout"
   ]
  },
  {
   "cell_type": "code",
   "execution_count": 79,
   "id": "2c4f13b2",
   "metadata": {},
   "outputs": [
    {
     "name": "stdout",
     "output_type": "stream",
     "text": [
      "Handshake message: Message received.\r\n",
      "\n"
     ]
    }
   ],
   "source": [
    "port = find_arduino()\n",
    "arduino = serial.Serial(port, baudrate=115200)\n",
    "handshake_arduino(arduino, handshake_code=HANDSHAKE, print_handshake_message=True)"
   ]
  },
  {
   "cell_type": "code",
   "execution_count": 11,
   "id": "7c222f9c",
   "metadata": {},
   "outputs": [
    {
     "data": {
      "text/plain": [
       "'25.6699520000'"
      ]
     },
     "execution_count": 11,
     "metadata": {},
     "output_type": "execute_result"
    }
   ],
   "source": [
    "# Ask Arduino for data\n",
    "arduino.write(bytes([TEMP_REQUEST]))\n",
    "\n",
    "# Receive data\n",
    "raw = arduino.read_until()\n",
    "\n",
    "# Look at what we got\n",
    "raw\n",
    "\n",
    "raw_str = raw.decode()\n",
    "\n",
    "# Take a look\n",
    "raw_str\n",
    "\n",
    "raw_str.rstrip()"
   ]
  },
  {
   "cell_type": "code",
   "execution_count": 15,
   "id": "1b705c0b",
   "metadata": {},
   "outputs": [],
   "source": [
    "def getTEMP(arduino):\n",
    "    arduino.write(bytes([TEMP_REQUEST]))\n",
    "    raw = arduino.read_until()\n",
    "    raw_str = raw.decode()\n",
    "    return float(raw_str.rstrip())"
   ]
  },
  {
   "cell_type": "code",
   "execution_count": 16,
   "id": "04f1024d",
   "metadata": {},
   "outputs": [
    {
     "data": {
      "text/plain": [
       "25.566681"
      ]
     },
     "execution_count": 16,
     "metadata": {},
     "output_type": "execute_result"
    }
   ],
   "source": [
    "getTEMP(arduino)"
   ]
  },
  {
   "cell_type": "code",
   "execution_count": 18,
   "id": "b7e7ab5f",
   "metadata": {},
   "outputs": [
    {
     "data": {
      "text/plain": [
       "28.490265"
      ]
     },
     "execution_count": 18,
     "metadata": {},
     "output_type": "execute_result"
    }
   ],
   "source": [
    "getTEMP(arduino)"
   ]
  },
  {
   "cell_type": "code",
   "execution_count": 22,
   "id": "bcc3eb9c",
   "metadata": {},
   "outputs": [],
   "source": [
    "def parse_raw(raw):\n",
    "    \"\"\"Parse bytes output from Arduino.\"\"\"\n",
    "    raw = raw.decode()\n",
    "    if raw[-1] != \"\\n\":\n",
    "        raise ValueError(\n",
    "            \"Input must end with newline, otherwise message is incomplete.\"\n",
    "        )\n",
    "\n",
    "    t = raw.rstrip()\n",
    "    return float(t)"
   ]
  },
  {
   "cell_type": "code",
   "execution_count": 23,
   "id": "3ee95954",
   "metadata": {},
   "outputs": [],
   "source": [
    "def request_single_temp(arduino):\n",
    "    \"\"\"Ask Arduino for a single data point\"\"\"\n",
    "    # Ask Arduino for data\n",
    "    arduino.write(bytes([TEMP_REQUEST]))\n",
    "\n",
    "    # Read in the data\n",
    "    raw = arduino.read_until()\n",
    "\n",
    "    # Parse and return\n",
    "    return parse_raw(raw)"
   ]
  },
  {
   "cell_type": "code",
   "execution_count": 82,
   "id": "d2448f4c",
   "metadata": {},
   "outputs": [
    {
     "data": {
      "text/plain": [
       "26.707062"
      ]
     },
     "execution_count": 82,
     "metadata": {},
     "output_type": "execute_result"
    }
   ],
   "source": [
    "request_single_temp(arduino)"
   ]
  },
  {
   "cell_type": "code",
   "execution_count": 77,
   "id": "4fe0e3bc",
   "metadata": {},
   "outputs": [],
   "source": [
    "arduino.close()"
   ]
  },
  {
   "cell_type": "code",
   "execution_count": 91,
   "id": "eb93a473",
   "metadata": {},
   "outputs": [],
   "source": [
    "def get_timestamp():\n",
    "    current_time = datetime.now()\n",
    "    timestamp = current_time.timestamp()\n",
    "    \n",
    "    date_time = datetime.fromtimestamp(timestamp)\n",
    "    str_date_time = date_time.strftime(\"%H:%M:%S\")\n",
    "    return str_date_time,current_time.time()"
   ]
  },
  {
   "cell_type": "code",
   "execution_count": 93,
   "id": "a79dfb2a",
   "metadata": {},
   "outputs": [
    {
     "data": {
      "text/plain": [
       "datetime.time(16, 23, 8, 318087)"
      ]
     },
     "execution_count": 93,
     "metadata": {},
     "output_type": "execute_result"
    }
   ],
   "source": [
    "get_timestamp()[1]"
   ]
  },
  {
   "cell_type": "code",
   "execution_count": null,
   "id": "35165d41",
   "metadata": {},
   "outputs": [],
   "source": []
  }
 ],
 "metadata": {
  "kernelspec": {
   "display_name": "Python 3 (ipykernel)",
   "language": "python",
   "name": "python3"
  },
  "language_info": {
   "codemirror_mode": {
    "name": "ipython",
    "version": 3
   },
   "file_extension": ".py",
   "mimetype": "text/x-python",
   "name": "python",
   "nbconvert_exporter": "python",
   "pygments_lexer": "ipython3",
   "version": "3.10.11"
  }
 },
 "nbformat": 4,
 "nbformat_minor": 5
}
